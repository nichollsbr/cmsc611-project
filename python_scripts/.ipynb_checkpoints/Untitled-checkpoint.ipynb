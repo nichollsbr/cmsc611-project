{
 "cells": [
  {
   "cell_type": "code",
   "execution_count": 44,
   "metadata": {},
   "outputs": [],
   "source": [
    "import re\n",
    "import matplotlib.pyplot as plt\n",
    "import json\n",
    "import os\n",
    "import numpy as np\n",
    "\n",
    "INT_TABLE = {\"one\": 1, \"two\": 2, \"three\": 3, \"four\": 4, \"five\": 5}\n",
    "\n",
    "\n",
    "# converts words \"one\" through \"five\" to an int\n",
    "def word_to_int(word):\n",
    "    return INT_TABLE[word.lower()]\n",
    "\n",
    "\n",
    "def parse_spark_output_file(header_name, name):\n",
    "    delimiter = \"Local Basic\"\n",
    "    thread_pattern = \"([a-zA-Z]{3,5})\\sthread\"\n",
    "    data_file_pattern = \"-2018.*Z\"\n",
    "    out_fp = open(name)\n",
    "    text = out_fp.read().strip().split(delimiter)\n",
    "    data_dict = {}\n",
    "    for line in text:\n",
    "        data_file_name_group = re.search(data_file_pattern, line)\n",
    "        thread_group = re.search(thread_pattern, line)\n",
    "        if thread_group and data_file_name_group:\n",
    "            thread_count = word_to_int(thread_group.group().split()[0])\n",
    "            data_file_name = data_file_name_group.group()\n",
    "            key1 = header_name + data_file_name\n",
    "            key = key1.replace(\":\", \"_\")\n",
    "            data_dict[key] = thread_count\n",
    "    return data_dict\n",
    "\n",
    "def generate_thread_count_peak_graph(data_directory, file_header, spark_output_path, plot_title, x_label, y_label, **kwargs):\n",
    "    files = sorted(os.listdir(data_directory))\n",
    "\n",
    "#     thread_counts = parse_spark_output_file(file_header, spark_output_path)\n",
    "\n",
    "    job_num = [1,2,3,4,5,6,7,8,9,10,11,12,13,14,15,16]\n",
    "    max_peaks = []\n",
    "    for a_file in files:\n",
    "        pathed = os.path.join(data_directory, a_file)\n",
    "        fp = open(pathed)\n",
    "        data_obj = json.load(fp)\n",
    "        peak_exec_mems = []\n",
    "        for job in data_obj:\n",
    "            # Get peak memory values from metric data and thread count of given job\n",
    "            peak_exec_mems.append(int(job[\"peakExecutionMemory\"]))\n",
    "        max_peaks.append(max(peak_exec_mems))\n",
    "        peak_exec_mems = []\n",
    "\n",
    "    return (job_num, max_peaks)"
   ]
  },
  {
   "cell_type": "code",
   "execution_count": 82,
   "metadata": {},
   "outputs": [],
   "source": [
    "import math\n",
    "\n",
    "def gen_bar_chart(x, y1, y2, y3):\n",
    "    n_groups=16\n",
    "    fig, ax = plt.subplots(figsize=(15,10))\n",
    "\n",
    "    index = np.arange(n_groups)\n",
    "    bar_width = 0.2\n",
    "\n",
    "    opacity = 0.4\n",
    "    error_config = {'ecolor': '0.3'}\n",
    "\n",
    "    rects1 = ax.bar(x, [math.log(i,10) for i in y1], bar_width,\n",
    "                    alpha=opacity, color='b',\n",
    "                    error_kw=error_config,\n",
    "                    label='Dataframe')\n",
    "\n",
    "    rects2 = ax.bar([i + bar_width for i in x], [math.log(i,10) for i in y2], bar_width,\n",
    "                    alpha=opacity, color='r',\n",
    "                    error_kw=error_config,\n",
    "                    label='Dataset')\n",
    "\n",
    "    rects3 = ax.bar([i + 2*bar_width for i in x], [math.log(i,10) for i in y3], bar_width,\n",
    "                alpha=opacity, color='g',\n",
    "                error_kw=error_config,\n",
    "                label='RDD')\n",
    "\n",
    "    ax.set_xlabel('Job Number (Determines Memory Setting)')\n",
    "    ax.set_ylabel('Peak Memory (Log Base 10)')\n",
    "    ax.set_title('Peak Execution Memory for Each Memory Setting')\n",
    "    ax.set_xticks(1 + index + bar_width)\n",
    "    ax.set_xticklabels(x)\n",
    "    ax.legend()\n",
    "\n",
    "    fig.tight_layout()\n",
    "    plt.show()\n"
   ]
  },
  {
   "cell_type": "code",
   "execution_count": 37,
   "metadata": {},
   "outputs": [
    {
     "name": "stdout",
     "output_type": "stream",
     "text": [
      "[1, 2, 3, 4, 5, 6, 7, 8, 9, 10, 11, 12, 13, 14, 15, 16]\n",
      "[4456448, 4456448, 4456448, 4456448, 2359296, 2359296, 2359296, 2359296, 1310720, 1310720, 1310720, 1310720, 1310720, 1310720, 1310720, 1310720]\n"
     ]
    }
   ],
   "source": [
    "DATAFRAME_DIRECTORY = r\"/Users/bnicholls/Documents/School/cmsc611-project/stats/dataframe-stats\"\n",
    "SPARK_DATAFRAME_OUTPUT_FILE = r\"/Users/bnicholls/Documents/School/cmsc611-project/stats/metrics-output/spark-stats-dataframe-task_metrics_run_output\"\n",
    "DATAFRAME_FILE_NAME = \"BasicDataframeRunner\"\n",
    "DATAFRAME_PLOT_TITLE = \"Spark DataFrame Metrics\"\n",
    "DATAFRAME_X_LABEL = \"Thread Count\"\n",
    "DATAFRAME_Y_LABEL = \"Peak Memory (Power of 7)\"\n",
    "\n",
    "x1, y1 = generate_thread_count_peak_graph(DATAFRAME_DIRECTORY, DATAFRAME_FILE_NAME,\n",
    "                                 SPARK_DATAFRAME_OUTPUT_FILE, DATAFRAME_PLOT_TITLE, DATAFRAME_X_LABEL, DATAFRAME_Y_LABEL)\n",
    "print(x1)\n",
    "print(y1)"
   ]
  },
  {
   "cell_type": "code",
   "execution_count": 41,
   "metadata": {},
   "outputs": [
    {
     "name": "stdout",
     "output_type": "stream",
     "text": [
      "[1, 2, 3, 4, 5, 6, 7, 8, 9, 10, 11, 12, 13, 14, 15, 16]\n",
      "[4456448, 4456448, 4456448, 4456448, 2359296, 2359296, 2359296, 2359296, 1310720, 1310720, 1310720, 1310720, 1310720, 1310720, 1310720, 1310720]\n"
     ]
    }
   ],
   "source": [
    "DATASET_DIRECTORY = r\"/Users/bnicholls/Documents/School/cmsc611-project/stats/dataset-stats\"\n",
    "SPARK_DATASET_OUTPUT_FILE = r\"/Users/bnicholls/Documents/School/cmsc611-project/stats/metrics-output/spark-stats-dataset-task_metrics_run_output\"\n",
    "DATASET_FILE_NAME = \"BasicDatasetRunner\"\n",
    "DATASET_PLOT_TITLE = \"Spark Dataset Metrics\"\n",
    "DATASET_X_LABEL = \"Thread Count\"\n",
    "DATASET_Y_LABEL = \"Peak Memory (Power of 7)\"\n",
    "\n",
    "x2, y2 = generate_thread_count_peak_graph(DATASET_DIRECTORY, DATASET_FILE_NAME,\n",
    "                                 SPARK_DATASET_OUTPUT_FILE, DATASET_PLOT_TITLE, DATASET_X_LABEL, DATASET_Y_LABEL)\n",
    "print(x2)\n",
    "print(y2)"
   ]
  },
  {
   "cell_type": "code",
   "execution_count": 42,
   "metadata": {},
   "outputs": [
    {
     "name": "stdout",
     "output_type": "stream",
     "text": [
      "[1, 2, 3, 4, 5, 6, 7, 8, 9, 10, 11, 12, 13, 14, 15, 16]\n",
      "[3648, 3648, 3648, 3648, 3648, 3648, 3648, 3648, 3648, 3648, 3648, 3648, 3648, 3648, 3648, 3648]\n"
     ]
    }
   ],
   "source": [
    "RDD_DIRECTORY = r\"/Users/bnicholls/Documents/School/cmsc611-project/stats/rdd-stats\"\n",
    "SPARK_RDD_OUTPUT_FILE = r\"/Users/bnicholls/Documents/School/cmsc611-project/stats/metrics-output/spark-stats-rdd-task_metrics_run_output\"\n",
    "RDD_FILE_NAME = \"BasicRDDRunner\"\n",
    "RDD_PLOT_TITLE = \"Spark RDD Metrics\"\n",
    "RDD_X_LABEL = \"Thread Count\"\n",
    "RDD_Y_LABEL = \"Peak Memory\"\n",
    "\n",
    "x3, y3 = generate_thread_count_peak_graph(RDD_DIRECTORY, RDD_FILE_NAME,\n",
    "                                 SPARK_RDD_OUTPUT_FILE, RDD_PLOT_TITLE, RDD_X_LABEL, RDD_Y_LABEL, max_peak=6000)\n",
    "print(x3)\n",
    "print(y3)"
   ]
  },
  {
   "cell_type": "code",
   "execution_count": 83,
   "metadata": {},
   "outputs": [
    {
     "data": {
      "image/png": "[encoded data removed]",
      "text/plain": [
       "<matplotlib.figure.Figure at 0x104ecec18>"
      ]
     },
     "metadata": {},
     "output_type": "display_data"
    }
   ],
   "source": [
    "gen_bar_chart(x1, y1, y2, y3)"
   ]
  },
  {
   "cell_type": "code",
   "execution_count": null,
   "metadata": {},
   "outputs": [],
   "source": []
  }
 ],
 "metadata": {
  "kernelspec": {
   "display_name": "Python 3",
   "language": "python",
   "name": "python3"
  },
  "language_info": {
   "codemirror_mode": {
    "name": "ipython",
    "version": 3
   },
   "file_extension": ".py",
   "mimetype": "text/x-python",
   "name": "python",
   "nbconvert_exporter": "python",
   "pygments_lexer": "ipython3",
   "version": "3.5.4"
  }
 },
 "nbformat": 4,
 "nbformat_minor": 2
}
