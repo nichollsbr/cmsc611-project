{
 "cells": [
  {
   "cell_type": "code",
   "execution_count": null,
   "metadata": {},
   "outputs": [],
   "source": [
    "import sys\n",
    "!conda install --yes --prefix {sys.prefix} matplotlib"
   ]
  },
  {
   "cell_type": "code",
   "execution_count": null,
   "metadata": {},
   "outputs": [],
   "source": [
    "# Graph to compare min and max finish time amongst all of the metrics\n",
    "% matplotlib inline\n",
    "import matplotlib.pyplot as plt\n",
    "import math\n",
    "import json\n",
    "import os\n",
    "import datetime\n",
    "\n",
    "# Extracts statistics from the data object which is an array of job dictionaries\n",
    "# processes stat if necessary\n",
    "def extract_stat(data_obj, stat_x, stat_y):\n",
    "    stats_x = []\n",
    "    stats_y = []\n",
    "    for job in data_obj:\n",
    "        stat_value_x = None\n",
    "        stat_value_y = None\n",
    "        # Account for stats in which two values need to be subtracted\n",
    "        if isinstance(stat_x, tuple):\n",
    "            stat_value_x = abs(job[stat_x[0]] - job[stat_x[1]])\n",
    "        if isinstance(stat_y, tuple):\n",
    "            stat_value_y = abs(job[stat_y[0]] - job[stat_y[1]])\n",
    "        if not stat_value_x:\n",
    "            stat_value_x = job[stat_x]\n",
    "        if not stat_value_y:\n",
    "            stat_value_y = job[stat_y]\n",
    "            \n",
    "        stats_x.append(stat_value_x)\n",
    "        stats_y.append(stat_value_y)\n",
    "    return (max(stats_x), max(stats_y))\n",
    "\n",
    "# generates a graph that compares the given metrics with the 2 statistics\n",
    "# \n",
    "# metrics - The list of metrics\n",
    "# stat_x - The name of the stat as shown in the json. If the stat contains a tuple of 2, the difference\n",
    "# of the first and second in the tuple will be used.\n",
    "# stat_y - The name of the other stat as shown in the json\n",
    "def generate_comparison(metrics, stat_x, stat_y):\n",
    "\n",
    "    n_groups=16\n",
    "    fig, ax = plt.subplots(figsize=(15,10))\n",
    "\n",
    "    index = np.arange(n_groups)\n",
    "    bar_width = 0.2\n",
    "\n",
    "    opacity = 0.4\n",
    "    error_config = {'ecolor': '0.3'}\n",
    "\n",
    "    metric_stats = {}\n",
    "    for metric in metrics:\n",
    "        metric_stats[metric] = {stat_x: None, stat_y:None}\n",
    "        data_files = get_associated_files(metric)\n",
    "        stat_values_x = []\n",
    "        stat_values_y = []\n",
    "        for data_file in data_files:\n",
    "            # Compile the data file path\n",
    "            data_file_path = os.path.join(cwd, stats_dir)\n",
    "            fp = open(pathed)\n",
    "            data_obj = json.load(fp)\n",
    "            stat_value_x, stat_value_y = extract_stat(data_obj, stat_x, stat_y)\n",
    "            stat_values_x.append(stat_value_x)\n",
    "            stat_values_y.append(stat_value_y)\n",
    "        metric_stats[metric][stat_x] = max(stat_values_x)\n",
    "        metric_stats[metric][stat_y] = max(stat_values_y)\n",
    "        \n",
    "    #for: TODO, add a line for each metric instead of bar\n",
    "        rects1 = ax.bar(x, [math.log(i,10) for i in y1], bar_width,\n",
    "                        alpha=opacity,\n",
    "                        error_kw=error_config,\n",
    "                        label='Dataframe')\n",
    "\n",
    "    ax.set_xlabel('Job Number (Determines Memory Setting)')\n",
    "    ax.set_ylabel('Peak Memory (Log Base 10)')\n",
    "    ax.set_title('Peak Execution Memory for Each Memory Setting')\n",
    "    ax.set_xticks(1 + index + bar_width)\n",
    "    ax.set_xticklabels(x)\n",
    "    ax.legend()\n",
    "\n",
    "    fig.tight_layout()\n",
    "    plt.show()"
   ]
  },
  {
   "cell_type": "code",
   "execution_count": 1,
   "metadata": {},
   "outputs": [
    {
     "name": "stdout",
     "output_type": "stream",
     "text": [
      "/Users/bnicholls/Documents/School/cmsc611-project/python_scripts\n",
      "/Users/bnicholls/Documents/School/cmsc611-project\n",
      "['BasicDataframeRunner-2018-12-09T07:27:23.1544340443Z', 'BasicDataframeRunner-2018-12-09T07:30:52.1544340652Z', 'BasicDataframeRunner-2018-12-09T07:12:34.1544339554Z', 'BasicDataframeRunner-2018-12-09T07:32:57.1544340777Z', 'BasicDataframeRunner-2018-12-09T07:20:38.1544340038Z', 'BasicDataframeRunner-2018-12-09T07:35:01.1544340901Z', 'BasicDataframeRunner-2018-12-09T07:17:42.1544339862Z', 'BasicDataframeRunner-2018-12-09T07:15:07.1544339707Z', 'BasicDataframeRunner-2018-12-09T07:09:59.1544339399Z', 'BasicDataframeRunner-2018-12-09T07:33:59.1544340839Z', 'BasicDataframeRunner-2018-12-09T07:25:05.1544340305Z', 'BasicDataframeRunner-2018-12-09T07:07:23.1544339243Z', 'BasicDataframeRunner-2018-12-09T07:23:36.1544340216Z', 'BasicDataframeRunner-2018-12-09T07:28:33.1544340513Z', 'BasicDataframeRunner-2018-12-09T07:22:07.1544340127Z', 'BasicDataframeRunner-2018-12-09T07:29:42.1544340582Z']\n"
     ]
    }
   ],
   "source": [
    "# Script to get JSON data from \n",
    "import re\n",
    "import matplotlib.pyplot as plt\n",
    "import json\n",
    "import os\n",
    "import datetime\n",
    "import numpy as np\n",
    "import seaborn as sns\n",
    "import pandas as pd\n",
    "pd.set_option('display.max_columns', 500)\n",
    "\n",
    "cwd = os.getcwd()\n",
    "\n",
    "#@MARIAMA - If you move spark-stats directory in all to the parent directory (what is base_dir below), then\n",
    "#you should be able to get rid of the following if statement.\n",
    "#Make sure you pull from master.  There is a new metrics directory in the parent directory, so do NOT pull\n",
    "#metrics from the all directory.\n",
    "\n",
    "stats_dir = \"spark-stats\"\n",
    "metrics_dir = \"metrics\"\n",
    "cluster_stats=\"cluster-spark-stats\"\n",
    "cluster_metrics=\"cluster_metrics\"\n",
    "base_dir = os.path.dirname(cwd)\n",
    "\n",
    "#provides an absolute path to spark-stats directory\n",
    "spark_stats_dir=\"\"\n",
    "#provides an absolute path to metrics directory (the run-output files)\n",
    "spark_metrics_dir=\"\"\n",
    "cluster_stats_dir=\"\"\n",
    "cluster_metrics_dir=\"\"\n",
    "if(cwd.startswith(\"C\")): #On a Windows\n",
    "    spark_stats_dir = base_dir + \"\\\\\" + stats_dir\n",
    "    spark_metrics_dir = base_dir + \"\\\\\" + metrics_dir\n",
    "    cluster_stats_dir = base_dir + \"\\\\\" + cluster_stats\n",
    "    cluster_metrics_dir = base_dir + \"\\\\\" + cluster_metrics\n",
    "else:\n",
    "    spark_stats_dir = base_dir + \"/\" + stats_dir\n",
    "    spark_metrics_dir = base_dir + \"/\" + metrics_dir\n",
    "    cluster_stats_dir = base_dir + \"/\" + cluster_stats\n",
    "    cluster_metrics_dir = base_dir + \"/\" + cluster_metrics\n",
    "\n",
    "metric_output_mapping = {\n",
    "    \"basic-dataframe-run-output\": \"BasicDataframe\",\n",
    "    \"basic-dataset-run-output\": \"BasicDataset\",\n",
    "    \"basic-rdd-run-output\": \"BasicRDD\",\n",
    "    \"cache-dataframe-run-output\": \"CacheDataframe\",\n",
    "    \"cache-dataset-run-output\": \"CacheDataset\",\n",
    "    \"cache-rdd-run-output\": \"CacheRDD\",\n",
    "    \"kmeans-dataframe-run-output\": \"KMeansDataframe\",\n",
    "    \"kmeans-dataset-run-output\": \"KMeansDataset\",\n",
    "    \"map-partitions-rdd-run-output\": \"MapPartitionsRDD\",\n",
    "    \"map-rdd-run-output\": \"MapRDD\",\n",
    "    \"partition-dataframe-run-output\": \"PartitionDataframe\",\n",
    "    \"parititon-dataset-run-output\": \"PartitionDataset\",\n",
    "    \"partition-rdd-run-output\": \"PartitionRDD\"\n",
    "}\n",
    "\n",
    "#Invert the above mapping\n",
    "metric_output_mapping_inv = {v: k for k, v in metric_output_mapping.items()}\n",
    "\n",
    "#Given spark-stats app name, get the file name\n",
    "def get_spark_stats_file(appName):\n",
    "    if(cwd.startswith(\"C\")):\n",
    "        return spark_stats_dir + \"\\\\\" + appName\n",
    "    else:\n",
    "        return spark_stats_dir + \"/\" + appName\n",
    "\n",
    "#Given the metrics output name, get the file name\n",
    "def get_metrics_file(fileName):\n",
    "    if(cwd.startswith(\"C\")):\n",
    "        return spark_metrics_dir + \"\\\\\" + fileName\n",
    "    else:\n",
    "        return spark_metrics_dir + \"/\" + fileName\n",
    "\n",
    "#Given a run-output file name (in metrics directory), get the appNames associated with that run\n",
    "def get_associated_appnames(run_output_name):\n",
    "    valid_files = list(pd.read_csv(get_metrics_file(run_output_name))[\"appName\"])\n",
    "    return [a_file for a_file in os.listdir(spark_stats_dir) if a_file in valid_files]\n",
    "\n",
    "#Given an appName (also a file name in the spark-stats directory), get the run parameters associated with that run\n",
    "def get_run_params(appName):\n",
    "    for beginningOutput in metric_output_mapping_inv:\n",
    "        if appName.startswith(beginningOutput):\n",
    "            metrics_df = pd.read_csv(get_metrics_file(metric_output_mapping_inv[beginningOutput]))\n",
    "            return metrics_df[metrics_df[\"appName\"] == appName]\n",
    "\n",
    "#Sort the metrics dataframe by threadCount, then executorMem, then overheadMem.  This will only apply to local jobs as is\n",
    "def metrics_df_sort(metrics_df):\n",
    "    return metrics_df.sort_values(by=['threadCount', 'executorMem', 'overheadMem'])\n",
    "\n",
    "#Get the metrics dataframe for the specified run-output file name. Then clean up and sort  This will only apply to local jobs as is\n",
    "def get_metrics(run_output_name):\n",
    "    raw_metrics = pd.read_csv(get_metrics_file(run_output_name))\n",
    "    raw_metrics[\"executorMem\"] = raw_metrics[\"executorMem\"].apply(lambda x: int(x[:-1]))\n",
    "    raw_metrics[\"overheadMem\"] = raw_metrics[\"overheadMem\"].apply(lambda x: int(x[:-1]))\n",
    "    return raw_metrics\n",
    "\n",
    "#Given an app name (file name in spark-stats since they match), get the dataframe for that app name\n",
    "def get_spark_stats(appName):\n",
    "    return pd.read_json(get_spark_stats_file(appName))\n",
    "\n",
    "print(cwd)\n",
    "print(base_dir)\n",
    "print(get_associated_appnames(\"basic-dataframe-run-output\"))"
   ]
  },
  {
   "cell_type": "code",
   "execution_count": 2,
   "metadata": {},
   "outputs": [
    {
     "name": "stdout",
     "output_type": "stream",
     "text": [
      "['MapPartitionsRDDRunner-2018-12-09T05:42:18.1544334138Z', 'MapPartitionsRDDRunner-2018-12-09T05:02:38.1544331758Z', 'MapPartitionsRDDRunner-2018-12-09T05:36:42.1544333802Z', 'MapPartitionsRDDRunner-2018-12-09T05:26:11.1544333171Z', 'MapPartitionsRDDRunner-2018-12-09T05:09:30.1544332170Z', 'MapPartitionsRDDRunner-2018-12-09T05:20:06.1544332806Z', 'MapPartitionsRDDRunner-2018-12-09T04:46:57.1544330817Z', 'MapPartitionsRDDRunner-2018-12-09T05:29:11.1544333351Z', 'MapPartitionsRDDRunner-2018-12-09T05:45:20.1544334320Z', 'MapPartitionsRDDRunner-2018-12-09T04:57:14.1544331434Z', 'MapPartitionsRDDRunner-2018-12-09T05:48:22.1544334502Z', 'MapPartitionsRDDRunner-2018-12-09T05:13:00.1544332380Z', 'MapPartitionsRDDRunner-2018-12-09T04:52:08.1544331128Z', 'MapPartitionsRDDRunner-2018-12-09T04:41:49.1544330509Z', 'MapPartitionsRDDRunner-2018-12-09T05:33:43.1544333623Z', 'MapPartitionsRDDRunner-2018-12-09T05:16:29.1544332589Z']\n",
      "['MapRDDRunner-2018-12-09T06:21:45.1544336505Z', 'MapRDDRunner-2018-12-09T06:25:49.1544336749Z', 'MapRDDRunner-2018-12-09T05:56:59.1544335019Z', 'MapRDDRunner-2018-12-09T06:57:54.1544338674Z', 'MapRDDRunner-2018-12-09T06:33:44.1544337224Z', 'MapRDDRunner-2018-12-09T06:47:14.1544338034Z', 'MapRDDRunner-2018-12-09T07:04:20.1544339060Z', 'MapRDDRunner-2018-12-09T06:08:05.1544335685Z', 'MapRDDRunner-2018-12-09T06:13:34.1544336014Z', 'MapRDDRunner-2018-12-09T06:29:52.1544336992Z', 'MapRDDRunner-2018-12-09T06:40:24.1544337624Z', 'MapRDDRunner-2018-12-09T06:02:25.1544335345Z', 'MapRDDRunner-2018-12-09T07:01:10.1544338870Z', 'MapRDDRunner-2018-12-09T05:51:23.1544334683Z', 'MapRDDRunner-2018-12-09T06:51:00.1544338260Z', 'MapRDDRunner-2018-12-09T06:43:30.1544337810Z']\n"
     ]
    },
    {
     "data": {
      "text/plain": [
       "['bytesRead',\n",
       " 'bytesWritten',\n",
       " 'diskBytesSpilled',\n",
       " 'duration',\n",
       " 'executorCpuTime',\n",
       " 'executorDeserializeCpuTime',\n",
       " 'executorDeserializeTime',\n",
       " 'executorId',\n",
       " 'executorRunTime',\n",
       " 'finishTime',\n",
       " 'gettingResultTime',\n",
       " 'host',\n",
       " 'index',\n",
       " 'jobGroup',\n",
       " 'jobId',\n",
       " 'jvmGCTime',\n",
       " 'launchTime',\n",
       " 'memoryBytesSpilled',\n",
       " 'numUpdatedBlockStatuses',\n",
       " 'peakExecutionMemory',\n",
       " 'recordsRead',\n",
       " 'recordsWritten',\n",
       " 'resultSerializationTime',\n",
       " 'resultSize',\n",
       " 'schedulerDelay',\n",
       " 'shuffleBytesWritten',\n",
       " 'shuffleFetchWaitTime',\n",
       " 'shuffleLocalBlocksFetched',\n",
       " 'shuffleRecordsWritten',\n",
       " 'shuffleRemoteBlocksFetched',\n",
       " 'shuffleTotalBlocksFetched',\n",
       " 'shuffleTotalBytesRead',\n",
       " 'shuffleWriteTime',\n",
       " 'speculative',\n",
       " 'stageId',\n",
       " 'successful',\n",
       " 'taskLocality']"
      ]
     },
     "execution_count": 2,
     "metadata": {},
     "output_type": "execute_result"
    }
   ],
   "source": [
    "#Just messing around. The output in this paragraph is a list of the stats available to be used\n",
    "map_partitions_files = get_associated_appnames(\"map-partitions-rdd-run-output\")\n",
    "map_files = get_associated_appnames(\"map-rdd-run-output\")\n",
    "print(map_partitions_files)\n",
    "print(map_files)\n",
    "sample = pd.read_json(get_spark_stats_file(map_partitions_files[0]))\n",
    "list(sample)"
   ]
  },
  {
   "cell_type": "code",
   "execution_count": 3,
   "metadata": {},
   "outputs": [
    {
     "data": {
      "text/plain": [
       "1    12834\n",
       "0    12834\n",
       "Name: stageId, dtype: int64"
      ]
     },
     "execution_count": 3,
     "metadata": {},
     "output_type": "execute_result"
    }
   ],
   "source": [
    "sample[\"stageId\"].value_counts()"
   ]
  },
  {
   "cell_type": "code",
   "execution_count": 4,
   "metadata": {},
   "outputs": [],
   "source": [
    "# Given the spark-stats dataframe, find the start time, end time, and run duration time in millis for the dataframe\n",
    "def get_full_execution_time(df):\n",
    "    start_time = min(df[\"launchTime\"])\n",
    "    end_time = max(df[\"finishTime\"])\n",
    "    time_range = end_time - start_time\n",
    "    return (start_time, end_time, time_range)\n",
    "\n",
    "# Given the spark-stats dataframe, calculate the total cpu time for the job\n",
    "def get_full_cpu_time(df):\n",
    "    return df[\"executorCpuTime\"].sum()\n",
    "\n",
    "# Given the spark-stats dataframe, calculate the max peakExecutionMemory for the job\n",
    "def get_max_peakExecutionMemory(df):\n",
    "    return max(df[\"peakExecutionMemory\"])\n",
    "\n",
    "# Given the spark-stats dataframe, calculate the min peakExecutionMemory for the job\n",
    "def get_min_peakExecutionMemory(df):\n",
    "    return min(df[\"peakExecutionMemory\"])"
   ]
  },
  {
   "cell_type": "code",
   "execution_count": 5,
   "metadata": {},
   "outputs": [],
   "source": [
    "t = get_full_execution_time(sample)"
   ]
  },
  {
   "cell_type": "code",
   "execution_count": 6,
   "metadata": {},
   "outputs": [
    {
     "data": {
      "text/plain": [
       "(1544334253692, 1544334316578, 62886)"
      ]
     },
     "execution_count": 6,
     "metadata": {},
     "output_type": "execute_result"
    }
   ],
   "source": [
    "t"
   ]
  },
  {
   "cell_type": "code",
   "execution_count": 7,
   "metadata": {},
   "outputs": [
    {
     "data": {
      "text/html": [
       "<div>\n",
       "<style scoped>\n",
       "    .dataframe tbody tr th:only-of-type {\n",
       "        vertical-align: middle;\n",
       "    }\n",
       "\n",
       "    .dataframe tbody tr th {\n",
       "        vertical-align: top;\n",
       "    }\n",
       "\n",
       "    .dataframe thead th {\n",
       "        text-align: right;\n",
       "    }\n",
       "</style>\n",
       "<table border=\"1\" class=\"dataframe\">\n",
       "  <thead>\n",
       "    <tr style=\"text-align: right;\">\n",
       "      <th></th>\n",
       "      <th>appName</th>\n",
       "      <th>threadCount</th>\n",
       "      <th>executorMem</th>\n",
       "      <th>overheadMem</th>\n",
       "    </tr>\n",
       "  </thead>\n",
       "  <tbody>\n",
       "    <tr>\n",
       "      <th>13</th>\n",
       "      <td>MapPartitionsRDDRunner-2018-12-09T05:42:18.154...</td>\n",
       "      <td>4</td>\n",
       "      <td>1024m</td>\n",
       "      <td>384m</td>\n",
       "    </tr>\n",
       "  </tbody>\n",
       "</table>\n",
       "</div>"
      ],
      "text/plain": [
       "                                              appName  threadCount  \\\n",
       "13  MapPartitionsRDDRunner-2018-12-09T05:42:18.154...            4   \n",
       "\n",
       "   executorMem overheadMem  \n",
       "13       1024m        384m  "
      ]
     },
     "execution_count": 7,
     "metadata": {},
     "output_type": "execute_result"
    }
   ],
   "source": [
    "get_run_params(map_partitions_files[0])"
   ]
  },
  {
   "cell_type": "code",
   "execution_count": 8,
   "metadata": {},
   "outputs": [],
   "source": [
    "def generate_graph(data, xlabel, ylabel, title, savefig=\"graph.png\"):\n",
    "    ax = sns.lineplot(data=data, linewidth=2.5)\n",
    "    ax.set(xlabel=xlabel, ylabel=ylabel, title=title)\n",
    "    plt.savefig(\"images/\"+ savefig)\n",
    "\n",
    "    #Cleanup the plot that we just printed so the one below doesn't have extra data\n",
    "    plt.cla()"
   ]
  },
  {
   "cell_type": "code",
   "execution_count": null,
   "metadata": {},
   "outputs": [],
   "source": [
    "# Map Partitions RDD vs Map RDD\n",
    "# Line plot of the job num vs execution time\n",
    "# Note that basic-rdd and map-partitions are the exact same.  They were just labelled differently.\n",
    "# I was curious to see if they exhibited the same run times, but they don't.  I don't know how to explain the differences\n",
    "mapPartitions_vs_map_df = {\n",
    "    \"BasicRDD\": get_metrics(\"basic-rdd-run-output\")[\"appName\"].apply(lambda appName:get_full_execution_time(get_spark_stats(appName))[2]/1000.0),\n",
    "    \"MapPartitions\": get_metrics(\"map-partitions-rdd-run-output\")[\"appName\"].apply(lambda appName:get_full_execution_time(get_spark_stats(appName))[2]/1000.0),\n",
    "    \"Map\": get_metrics(\"map-rdd-run-output\")[\"appName\"].apply(lambda appName:get_full_execution_time(get_spark_stats(appName))[2]/1000.0),  \n",
    "}\n",
    "data = pd.DataFrame(mapPartitions_vs_map_df)\n",
    "\n",
    "#Create a line plot for all 3 jobs.  This is what shows there are weird anomalies in the execution time for the \n",
    "# mapPartitions/basicRDD jobs\n",
    "generate_graph(data, \"Job Number\", \"Total Execution Time (sec)\", title=\"Execution Time Comparison When\\nUsing Map vs MapPartitions vs BasicRDD\", savefig=\"mapVsMapPartitionsAllExecutionTime.png\")\n",
    "\n",
    "#Cleanup the plot that we just printed so the one below doesn't have extra data\n",
    "plt.cla()\n",
    "\n",
    "#Now do cleanup. Since BasicRDD and MapParitions are the same job, let's just take the minimum execution time\n",
    "#to compare to the execution time of the map job.\n",
    "data[\"MapPartitions\"] = data[[\"MapPartitions\", \"BasicRDD\"]].min(axis=1)\n",
    "data = data.drop([\"BasicRDD\"], axis=1)\n",
    "\n",
    "generate_graph(data, \"Job Number\", \"Total Execution Time (sec)\", title=\"Execution Time Comparison When Using Map vs MapPartitions\", savefig=\"mapVsMapPartitionsBestExecutionTime.png\")"
   ]
  },
  {
   "cell_type": "code",
   "execution_count": null,
   "metadata": {},
   "outputs": [],
   "source": [
    "# I wanted to see what comparing the CPU Time would look like.\n",
    "mapPartitions_vs_map_df = {\n",
    "    \"BasicRDD\": get_metrics(\"basic-rdd-run-output\")[\"appName\"].apply(lambda appName:get_full_cpu_time(get_spark_stats(appName))),\n",
    "    \"MapPartitions\": get_metrics(\"map-partitions-rdd-run-output\")[\"appName\"].apply(lambda appName:get_full_cpu_time(get_spark_stats(appName))),\n",
    "    \"Map\": get_metrics(\"map-rdd-run-output\")[\"appName\"].apply(lambda appName:get_full_cpu_time(get_spark_stats(appName))),  \n",
    "}\n",
    "data = pd.DataFrame(mapPartitions_vs_map_df)\n",
    "\n",
    "#Again, just seeing how BasicRDD and MapPartitions jobs compare.\n",
    "generate_graph(data, \"Job Number\", \"Total CPU Time of Executors (sec)\", \n",
    "               title=\"CPU Execution Time Comparison When\\nUsing Map vs MapPartitions vs BasicRDD\", savefig=\"mapVsMapPartitionsAllCpuTime.png\")\n",
    "\n",
    "#Now, just seeing how minimum CPU Time of BasicRDD and MapPartitions jobs compare to the Map job.\n",
    "data[\"MapPartitions\"] = data[[\"MapPartitions\", \"BasicRDD\"]].min(axis=1)\n",
    "data = data.drop([\"BasicRDD\"], axis=1)\n",
    "\n",
    "generate_graph(data, \"Job Number\", \"Total CPU Time of Executors (sec)\", \n",
    "               title=\"CPU Execution Time Comparison When Using Map vs MapPartitions\", savefig=\"mapVsMapPartitionsBestCpuTime.png\")\n"
   ]
  },
  {
   "cell_type": "code",
   "execution_count": null,
   "metadata": {},
   "outputs": [],
   "source": [
    "# Now I'm comparing the max peak execution memory of the mapParititons and the map jobs.\n",
    "mapPartitions_vs_map_df = {\n",
    "    \"MapPartitions\": get_metrics(\"map-partitions-rdd-run-output\")[\"appName\"].apply(lambda appName:get_max_peakExecutionMemory(get_spark_stats(appName))),\n",
    "    \"Map\": get_metrics(\"map-rdd-run-output\")[\"appName\"].apply(lambda appName:get_max_peakExecutionMemory(get_spark_stats(appName))),  \n",
    "}\n",
    "data = pd.DataFrame(mapPartitions_vs_map_df)\n",
    "\n",
    "generate_graph(data, \"Job Number\", \"Max Peak Execution Memory (bytes)\", \n",
    "               title=\"Max Peak Execution Memory Comparison When\\nUsing Map vs MapPartitions\", savefig=\"mapVsMapPartitionsMaxPeakExecutionMemory.png\")\n"
   ]
  },
  {
   "cell_type": "code",
   "execution_count": null,
   "metadata": {},
   "outputs": [],
   "source": [
    "# Now I'm comparing the min peak execution memory of the mapParititons and the map jobs.  Was curious to see\n",
    "mapPartitions_vs_map_df = {\n",
    "    \"MapPartitions\": get_metrics(\"map-partitions-rdd-run-output\")[\"appName\"].apply(lambda appName:get_min_peakExecutionMemory(get_spark_stats(appName))),\n",
    "    \"Map\": get_metrics(\"map-rdd-run-output\")[\"appName\"].apply(lambda appName:get_min_peakExecutionMemory(get_spark_stats(appName))),  \n",
    "}\n",
    "data = pd.DataFrame(mapPartitions_vs_map_df)\n",
    "\n",
    "generate_graph(data, \"Job Number\", \"Min Peak Execution Memory (bytes)\", \n",
    "               title=\"Min Peak Execution Memory Comparison When\\nUsing Map vs MapPartitions\", savefig=\"mapVsMapPartitionsMinPeakExecutionMemory.png\")\n"
   ]
  },
  {
   "cell_type": "code",
   "execution_count": 27,
   "metadata": {},
   "outputs": [
    {
     "data": {
      "text/plain": [
       "77868006"
      ]
     },
     "execution_count": 27,
     "metadata": {},
     "output_type": "execute_result"
    }
   ],
   "source": [
    "#Let's get metrics on the input of the job\n",
    "sample_mapPartitionsJob_appName = get_metrics(\"map-partitions-rdd-run-output\")[\"appName\"][0]\n",
    "df = get_spark_stats(sample_mapPartitionsJob_appName)\n",
    "sum(df[df[\"stageId\"] == 0][\"bytesRead\"])\n"
   ]
  },
  {
   "cell_type": "code",
   "execution_count": 28,
   "metadata": {},
   "outputs": [
    {
     "data": {
      "text/plain": [
       "3443046"
      ]
     },
     "execution_count": 28,
     "metadata": {},
     "output_type": "execute_result"
    }
   ],
   "source": [
    "sum(df[df[\"stageId\"] == 0][\"recordsRead\"])"
   ]
  },
  {
   "cell_type": "code",
   "execution_count": null,
   "metadata": {},
   "outputs": [],
   "source": [
    "maxPeakExecutionMemory = 0\n",
    "for appName in get_metrics(\"map-partitions-rdd-run-output\")[\"appName\"]:\n",
    "    maxPeakExecutionMemory = max(maxPeakExecutionMemory, get_max_peakExecutionMemory(get_spark_stats(appName)))\n",
    "sample_df = get_spark_stats(get_metrics(\"map-partitions-rdd-run-output\")[\"appName\"][0])"
   ]
  },
  {
   "cell_type": "code",
   "execution_count": null,
   "metadata": {},
   "outputs": [],
   "source": [
    "sample_df[sample_df[\"peakExecutionMemory\"] == maxPeakExecutionMemory]"
   ]
  },
  {
   "cell_type": "code",
   "execution_count": null,
   "metadata": {},
   "outputs": [],
   "source": [
    "#Okay, this is prep for the two graphics below.  Basically, take all of the stats for the map Partitions jobs\n",
    "#and union them together.\n",
    "apps = get_metrics(\"map-partitions-rdd-run-output\")[\"appName\"]\n",
    "df = get_spark_stats(apps[0])\n",
    "for appName in apps[1:]:\n",
    "    df = df.append(get_spark_stats(appName))"
   ]
  },
  {
   "cell_type": "code",
   "execution_count": null,
   "metadata": {},
   "outputs": [],
   "source": [
    "#I wanted to see if the peak execution memory related to the bytes input/output.  This is running a linear regression\n",
    "#(a best fit line) comparing the peakExecutionMemory for a task and the bytes read into the task.\n",
    "# It looks like they are somewhat related, but I wouldn't say they are strongly related.\n",
    "ax = sns.lmplot(x=\"peakExecutionMemory\", y=\"bytesRead\", truncate=True, data=df)\n",
    "ax.set(xlabel='Peak Execution Memory (bytes)', \n",
    "       xlim = (0,max(df[\"peakExecutionMemory\"])),\n",
    "       ylabel='Bytes Read (bytes)', \n",
    "       ylim = (0,max(df[\"bytesRead\"])),\n",
    "       title=\"Peak Execution Memory vs Bytes Read for MapPartitions RDD\")"
   ]
  },
  {
   "cell_type": "code",
   "execution_count": null,
   "metadata": {
    "scrolled": true
   },
   "outputs": [],
   "source": [
    "# This is interesting.  It really looks like the peakExecutionMemory and the shuffleBytesWritten (the output of a task)\n",
    "# are strongly related.  I'd like to see if this pattern continues through the other comparisons. Might be a good\n",
    "# talking point.\n",
    "ax = sns.lmplot(x=\"peakExecutionMemory\", y=\"shuffleBytesWritten\", truncate=True, data=df)\n",
    "ax.set(xlabel='Peak Execution Memory (bytes)', \n",
    "       xlim = (0,max(df[\"peakExecutionMemory\"])),\n",
    "       ylabel='Shuffle Bytes Written (bytes)', \n",
    "       ylim = (0,max(df[\"shuffleBytesWritten\"])),\n",
    "       title=\"Peak Execution Memory vs Bytes Read for MapPartitions RDD\")"
   ]
  },
  {
   "cell_type": "code",
   "execution_count": 9,
   "metadata": {},
   "outputs": [],
   "source": [
    "cluster_metric_output_mapping = {\n",
    "    \"basic-dataframe-cluster-run-output\": \"BasicDataframe\",\n",
    "    \"basic-dataset-cluster-run-output\": \"BasicDataset\",\n",
    "    \"basic-rdd-cluster-run-output\": \"BasicRDD\",\n",
    "    \"cache-dataframe-cluster-run-output\": \"CacheDataframe\",\n",
    "    \"cache-dataset-cluster-run-output\": \"CacheDataset\",\n",
    "    \"cache-rdd-cluster-run-output\": \"CacheRDD\",\n",
    "    \"kmeans-dataframe-cluster-run-output\": \"KMeansDataframe\",\n",
    "    \"kmeans-dataset-cluster-run-output\": \"KMeansDataset\",\n",
    "    \"map-partitions-cluster-rdd-run-output\": \"MapPartitionsRDD\",\n",
    "    \"map-rdd-cluster-run-output\": \"MapRDD\",\n",
    "    \"partition-dataframe-cluster-run-output\": \"PartitionDataframe\",\n",
    "    \"parititon-dataset-cluster-run-output\": \"PartitionDataset\",\n",
    "    \"partition-rdd-cluster-run-output\": \"PartitionRDD\"\n",
    "}\n",
    "\n",
    "#Invert the above mapping\n",
    "cluster_metric_output_mapping_inv = {v: k for k, v in cluster_metric_output_mapping.items()}\n",
    "\n",
    "#Given spark-stats app name, get the file name\n",
    "def get_cluster_spark_stats_file(appName):\n",
    "    if(cwd.startswith(\"C\")):\n",
    "        return cluster_stats_dir + \"\\\\\" + appName\n",
    "    else:\n",
    "        return cluster_stats_dir + \"/\" + appName\n",
    "\n",
    "#Given the metrics output name, get the file name\n",
    "def get_cluster_metrics_file(fileName):\n",
    "    if(cwd.startswith(\"C\")):\n",
    "        return cluster_metrics_dir + \"\\\\\" + fileName\n",
    "    else:\n",
    "        return cluster_metrics_dir + \"/\" + fileName\n",
    "\n",
    "#Given a run-output file name (in metrics directory), get the appNames associated with that run\n",
    "def get_cluster_associated_appnames(run_output_name):\n",
    "    valid_files = list(pd.read_csv(get_cluster_metrics_file(run_output_name))[\"appName\"])\n",
    "    return [a_file for a_file in os.listdir(cluster_stats_dir) if a_file in valid_files]\n",
    "\n",
    "#Given an appName (also a file name in the spark-stats directory), get the run parameters associated with that run\n",
    "def get_cluster_run_params(appName):\n",
    "    for beginningOutput in cluster_metric_output_mapping_inv:\n",
    "        if appName.startswith(beginningOutput):\n",
    "            metrics_df = pd.read_csv(get_cluster_metrics_file(cluster_metric_output_mapping_inv[beginningOutput]))\n",
    "            return metrics_df[metrics_df[\"appName\"] == appName]\n",
    "\n",
    "#Given an app name (file name in spark-stats since they match), get the dataframe for that app name\n",
    "def get_cluster_spark_stats(appName):\n",
    "    return pd.read_json(get_cluster_spark_stats_file(appName))\n",
    "\n",
    "#Get the metrics dataframe for the specified run-output file name. Then clean up and sort  This will only apply to local jobs as is\n",
    "def get_cluster_metrics(run_output_name):\n",
    "    raw_metrics = pd.read_csv(get_cluster_metrics_file(run_output_name))\n",
    "    raw_metrics[\"executorMem\"] = raw_metrics[\"executorMem\"].apply(lambda x: int(x[:-1]))\n",
    "    raw_metrics[\"overheadMem\"] = raw_metrics[\"overheadMem\"].apply(lambda x: int(x[:-1]))\n",
    "    return raw_metrics\n",
    "\n",
    "def get_cluster_full_execution_time(df):\n",
    "    start_time = min(df[\"submissionTime\"])\n",
    "    end_time = max(df[\"completionTime\"])\n",
    "    time_range = end_time - start_time\n",
    "    return (start_time, end_time, time_range)\n"
   ]
  },
  {
   "cell_type": "code",
   "execution_count": null,
   "metadata": {},
   "outputs": [],
   "source": [
    "# Map Partitions RDD vs Map RDD\n",
    "# Line plot of the job num vs execution time\n",
    "# Note that basic-rdd and map-partitions are the exact same.  They were just labelled differently.\n",
    "# I was curious to see if they exhibited the same run times, but they don't.  I don't know how to explain the differences\n",
    "mapPartitions_vs_map_df = {\n",
    "    \"BasicRDD\": get_cluster_metrics(\"basic-rdd-cluster-run-output\")[\"appName\"].apply(lambda appName:get_cluster_full_execution_time(get_cluster_spark_stats(appName))[2]/1000.0),\n",
    "    \"MapPartitions\": get_cluster_metrics(\"map-partitions-rdd-cluster-run-output\")[\"appName\"].apply(lambda appName:get_cluster_full_execution_time(get_cluster_spark_stats(appName))[2]/1000.0),\n",
    "    \"Map\": get_cluster_metrics(\"map-rdd-cluster-run-output\")[\"appName\"].apply(lambda appName:get_cluster_full_execution_time(get_cluster_spark_stats(appName))[2]/1000.0),  \n",
    "}\n",
    "data = pd.DataFrame(mapPartitions_vs_map_df)\n",
    "\n",
    "#Create a line plot for all 3 jobs.  This is what shows there are weird anomalies in the execution time for the \n",
    "# mapPartitions/basicRDD jobs\n",
    "generate_graph(data, \"Job Number\", \"Total Execution Time (sec)\", title=\"Execution Time Comparison When\\nUsing Map vs MapPartitions vs BasicRDD On Cluster\", savefig=\"mapVsMapPartitionsAllExecutionTimeCluster.png\")\n",
    "\n",
    "#Cleanup the plot that we just printed so the one below doesn't have extra data\n",
    "# plt.cla()\n",
    "\n",
    "#Now do cleanup. Since BasicRDD and MapParitions are the same job, let's just take the minimum execution time\n",
    "#to compare to the execution time of the map job.\n",
    "data[\"MapPartitions\"] = data[[\"MapPartitions\", \"BasicRDD\"]].min(axis=1)\n",
    "data = data.drop([\"BasicRDD\"], axis=1)\n",
    "\n",
    "generate_graph(data, \"Job Number\", \"Total Execution Time (sec)\", title=\"Execution Time Comparison When Using Map vs MapPartitions\", savefig=\"mapVsMapPartitionsBestExecutionTimeCluster.png\")\n"
   ]
  },
  {
   "cell_type": "code",
   "execution_count": 33,
   "metadata": {},
   "outputs": [
    {
     "data": {
      "image/png": "[encoded data removed]",
      "text/plain": [
       "<matplotlib.figure.Figure at 0x1a14a5da90>"
      ]
     },
     "metadata": {},
     "output_type": "display_data"
    }
   ],
   "source": [
    "# Now I'm comparing the max peak execution memory of the mapParititons and the map jobs.\n",
    "mapPartitions_vs_map_df = {\n",
    "    \"MapPartitions\": get_cluster_metrics(\"map-partitions-rdd-cluster-run-output\")[\"appName\"].apply(lambda appName:get_max_peakExecutionMemory(get_cluster_spark_stats(appName))),\n",
    "    \"Map\": get_cluster_metrics(\"map-rdd-cluster-run-output\")[\"appName\"].apply(lambda appName:get_max_peakExecutionMemory(get_cluster_spark_stats(appName))),  \n",
    "#     \"BasicRDD\": get_cluster_metrics(\"basic-rdd-cluster-run-output\")[\"appName\"].apply(lambda appName:get_max_peakExecutionMemory(get_cluster_spark_stats(appName))),  \n",
    "}\n",
    "data = pd.DataFrame(mapPartitions_vs_map_df)\n",
    "\n",
    "generate_graph(data, \"Job Number\", \"Max Peak Execution Memory (bytes)\", \n",
    "               title=\"Max Peak Execution Memory Comparison When\\nUsing Map vs MapPartitions on Cluster\", savefig=\"mapVsMapPartitionsMaxPeakExecutionMemoryCluster.png\")\n"
   ]
  },
  {
   "cell_type": "code",
   "execution_count": 14,
   "metadata": {},
   "outputs": [
    {
     "data": {
      "text/plain": [
       "'BasicRDDRunner-2018-12-17T05:09:59.1545023399Z'"
      ]
     },
     "execution_count": 14,
     "metadata": {},
     "output_type": "execute_result"
    }
   ],
   "source": [
    "get_cluster_metrics(\"basic-rdd-cluster-run-output\")[\"appName\"][0]"
   ]
  },
  {
   "cell_type": "code",
   "execution_count": 30,
   "metadata": {},
   "outputs": [
    {
     "data": {
      "text/plain": [
       "0"
      ]
     },
     "execution_count": 30,
     "metadata": {},
     "output_type": "execute_result"
    }
   ],
   "source": [
    "#Let's get metrics on the input of the job\n",
    "sample_mapPartitionsJob_appName = get_cluster_metrics(\"map-partitions-rdd-cluster-run-output\")[\"appName\"][0]\n",
    "df = get_cluster_spark_stats(sample_mapPartitionsJob_appName)\n",
    "sum(df[df[\"stageId\"] == 0][\"bytesRead\"])\n"
   ]
  },
  {
   "cell_type": "code",
   "execution_count": 31,
   "metadata": {},
   "outputs": [
    {
     "data": {
      "text/plain": [
       "0"
      ]
     },
     "execution_count": 31,
     "metadata": {},
     "output_type": "execute_result"
    }
   ],
   "source": [
    "sum(df[df[\"stageId\"] == 0][\"recordsRead\"])"
   ]
  },
  {
   "cell_type": "code",
   "execution_count": null,
   "metadata": {},
   "outputs": [],
   "source": []
  }
 ],
 "metadata": {
  "kernelspec": {
   "display_name": "Python 3",
   "language": "python",
   "name": "python3"
  },
  "language_info": {
   "codemirror_mode": {
    "name": "ipython",
    "version": 3
   },
   "file_extension": ".py",
   "mimetype": "text/x-python",
   "name": "python",
   "nbconvert_exporter": "python",
   "pygments_lexer": "ipython3",
   "version": "3.5.4"
  }
 },
 "nbformat": 4,
 "nbformat_minor": 2
}
