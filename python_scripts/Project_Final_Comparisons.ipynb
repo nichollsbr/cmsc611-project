{
 "cells": [
  {
   "cell_type": "code",
   "execution_count": 6,
   "metadata": {},
   "outputs": [
    {
     "name": "stdout",
     "output_type": "stream",
     "text": [
      "Solving environment: ...working... done\n",
      "\n",
      "# All requested packages already installed.\n",
      "\n"
     ]
    }
   ],
   "source": [
    "import sys\n",
    "!conda install --yes --prefix {sys.prefix} matplotlib"
   ]
  },
  {
   "cell_type": "code",
   "execution_count": 4,
   "metadata": {},
   "outputs": [
    {
     "name": "stdout",
     "output_type": "stream",
     "text": [
      "C:\\Users\\maria\\Documents\\Grad School\\Fall2018\\CMSC611\\Projects\\all-20181213T021317Z-001\\all\\\n",
      "C:\\Users\\maria\\Documents\\Grad School\\Fall2018\\CMSC611\\Projects\\all-20181213T021317Z-001\\all\n",
      "['BasicDataframeRunner-2018-12-09T07_07_23.1544339243Z', 'BasicDataframeRunner-2018-12-09T07_09_59.1544339399Z', 'BasicDataframeRunner-2018-12-09T07_12_34.1544339554Z', 'BasicDataframeRunner-2018-12-09T07_15_07.1544339707Z', 'BasicDataframeRunner-2018-12-09T07_17_42.1544339862Z', 'BasicDataframeRunner-2018-12-09T07_19_10.1544339950Z', 'BasicDataframeRunner-2018-12-09T07_20_38.1544340038Z', 'BasicDataframeRunner-2018-12-09T07_22_07.1544340127Z', 'BasicDataframeRunner-2018-12-09T07_23_36.1544340216Z', 'BasicDataframeRunner-2018-12-09T07_25_05.1544340305Z', 'BasicDataframeRunner-2018-12-09T07_26_13.1544340373Z', 'BasicDataframeRunner-2018-12-09T07_27_23.1544340443Z', 'BasicDataframeRunner-2018-12-09T07_28_33.1544340513Z', 'BasicDataframeRunner-2018-12-09T07_29_42.1544340582Z', 'BasicDataframeRunner-2018-12-09T07_30_52.1544340652Z', 'BasicDataframeRunner-2018-12-09T07_31_54.1544340714Z', 'BasicDataframeRunner-2018-12-09T07_32_57.1544340777Z', 'BasicDataframeRunner-2018-12-09T07_33_59.1544340839Z', 'BasicDataframeRunner-2018-12-09T07_35_01.1544340901Z']\n"
     ]
    }
   ],
   "source": [
    "# Script to get JSON data from \n",
    "import re\n",
    "import matplotlib.pyplot as plt\n",
    "import json\n",
    "import os\n",
    "#cwd = os.getcwd()\n",
    "cwd = \"C:\\\\Users\\\\maria\\\\Documents\\\\Grad School\\\\Fall2018\\\\CMSC611\\\\Projects\\\\all-20181213T021317Z-001\\\\all\\\\\"\n",
    "stats_dir = \"spark-stats\"\n",
    "base_dir = os.path.dirname(cwd)\n",
    "\n",
    "metric_output_mapping = {\n",
    "    \"basic-dataframe-run-output\": \"BasicDataframe\",\n",
    "    \"basic-dataset-run-output\": \"BasicDataset\",\n",
    "    \"basic-rdd-run-output\": \"BasicRDD\",\n",
    "    \"cache-dataframe-run-output\": \"CacheDataframe\",\n",
    "    \"cache-dataset-run-output\": \"CacheDataset\",\n",
    "    \"cache-rdd-run-output\": \"CacheRDD\",\n",
    "    \"kmeans-dataframe-run-output\": \"KMeansDataframe\",\n",
    "    \"kmeans-dataset-run-output\": \"KMeansDataset\",\n",
    "    \"map-partitions-rdd-run-output\": \"MapPartitionsRDD\",\n",
    "    \"map-rdd-run-output\": \"MapRDD\",\n",
    "    \"partition-dataframe-run-output\": \"PartitionDataframe\",\n",
    "    \"parititon-dataset-run-output\": \"PartitionDataset\",\n",
    "    \"partition-rdd-run-output\": \"PartitionRDD\"\n",
    "}\n",
    "\n",
    "def get_associated_files(run_output_name):\n",
    "    files = os.listdir(base_dir + \"\\\\\" + stats_dir)\n",
    "    return [a_file for a_file in files if a_file.startswith(metric_output_mapping[run_output_name])]\n",
    "\n",
    "print(cwd)\n",
    "print(base_dir)\n",
    "print(get_associated_files(\"basic-dataframe-run-output\"))"
   ]
  },
  {
   "cell_type": "code",
   "execution_count": null,
   "metadata": {},
   "outputs": [],
   "source": [
    "# Graph to compare min and max finish time amongst all of the metrics\n",
    "% matplotlib inline\n",
    "import matplotlib.pyplot as plt\n",
    "import math\n",
    "import json\n",
    "import os\n",
    "\n",
    "# Extracts statistics from the data object which is an array of job dictionaries\n",
    "# processes stat if necessary\n",
    "def extract_stat(data_obj, stat_x, stat_y):\n",
    "    stats_x = []\n",
    "    stats_y = []\n",
    "    for job in data_obj:\n",
    "        stat_value_x = None\n",
    "        stat_value_y = None\n",
    "        # Account for stats in which two values need to be subtracted\n",
    "        if isinstance(stat_x, tuple):\n",
    "            stat_value_x = abs(job[stat_x[0]] - job[stat_x[1]])\n",
    "        if isinstance(stat_y, tuple):\n",
    "            stat_value_y = abs(job[stat_y[0]] - job[stat_y[1]])\n",
    "        if not stat_value_x:\n",
    "            stat_value_x = job[stat_x]\n",
    "        if not stat_value_y:\n",
    "            stat_value_y = job[stat_y]\n",
    "            \n",
    "        stats_x.append(stat_value_x)\n",
    "        stats_y.append(stat_value_y)\n",
    "    return (max(stats_x), max(stats_y))\n",
    "\n",
    "# generates a graph that compares the given metrics with the 2 statistics\n",
    "# \n",
    "# metrics - The list of metrics\n",
    "# stat_x - The name of the stat as shown in the json. If the stat contains a tuple of 2, the difference\n",
    "# of the first and second in the tuple will be used.\n",
    "# stat_y - The name of the other stat as shown in the json\n",
    "def generate_comparison(metrics, stat_x, stat_y):\n",
    "\n",
    "    n_groups=16\n",
    "    fig, ax = plt.subplots(figsize=(15,10))\n",
    "\n",
    "    index = np.arange(n_groups)\n",
    "    bar_width = 0.2\n",
    "\n",
    "    opacity = 0.4\n",
    "    error_config = {'ecolor': '0.3'}\n",
    "\n",
    "    metric_stats = {}\n",
    "    for metric in metrics:\n",
    "        metric_stats[metric] = {stat_x: None, stat_y:None}\n",
    "        data_files = get_associated_files(metric)\n",
    "        stat_values_x = []\n",
    "        stat_values_y = []\n",
    "        for data_file in data_files:\n",
    "            # Compile the data file path\n",
    "            data_file_path = os.path.join(cwd, stats_dir)\n",
    "            fp = open(pathed)\n",
    "            data_obj = json.load(fp)\n",
    "            stat_value_x, stat_value_y = extract_stat(data_obj, stat_x, stat_y)\n",
    "            stat_values_x.append(stat_value_x)\n",
    "            stat_values_y.append(stat_value_y)\n",
    "        metric_stats[metric][stat_x] = max(stat_values_x)\n",
    "        metric_stats[metric][stat_y] = max(stat_values_y)\n",
    "        \n",
    "    for # TODO, add a line for each metric instead of bar\n",
    "        rects1 = ax.bar(x, [math.log(i,10) for i in y1], bar_width,\n",
    "                        alpha=opacity,\n",
    "                        error_kw=error_config,\n",
    "                        label='Dataframe')\n",
    "\n",
    "    ax.set_xlabel('Job Number (Determines Memory Setting)')\n",
    "    ax.set_ylabel('Peak Memory (Log Base 10)')\n",
    "    ax.set_title('Peak Execution Memory for Each Memory Setting')\n",
    "    ax.set_xticks(1 + index + bar_width)\n",
    "    ax.set_xticklabels(x)\n",
    "    ax.legend()\n",
    "\n",
    "    fig.tight_layout()\n",
    "    plt.show()"
   ]
  }
 ],
 "metadata": {
  "kernelspec": {
   "display_name": "Python 3",
   "language": "python",
   "name": "python3"
  },
  "language_info": {
   "codemirror_mode": {
    "name": "ipython",
    "version": 3
   },
   "file_extension": ".py",
   "mimetype": "text/x-python",
   "name": "python",
   "nbconvert_exporter": "python",
   "pygments_lexer": "ipython3",
   "version": "3.7.0"
  }
 },
 "nbformat": 4,
 "nbformat_minor": 2
}

